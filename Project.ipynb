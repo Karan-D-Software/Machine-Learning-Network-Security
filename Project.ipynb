{
 "cells": [
  {
   "cell_type": "markdown",
   "metadata": {},
   "source": [
    "# Clustering Network Traffic for Cybersecurity Analysis Using CICIDS2017 Dataset\n",
    "\n",
    "## [LINK TO GITHUB REPOSITORY](https://github.com/Karan-D-Software/Machine-Learning-Network-Security)\n",
    "\n",
    "This project aims to perform clustering analysis on the CICIDS2017 dataset to identify patterns and group similar types of network traffic. The objective is to detect and categorize different types of network activities, which can help in identifying normal and potentially malicious behaviors. Through this analysis, we hope to gain insights into the characteristics of various network traffic clusters and enhance our understanding of cybersecurity threats.\n",
    "\n",
    "## Dataset\n",
    "We use the CICIDS2017 dataset, which includes various types of network traffic, such as normal traffic, DoS, DDoS, and other types of attacks. The dataset is publicly available on Kaggle.\n",
    "\n",
    "## Table of Contents\n",
    "1. [Introduction](#introduction)\n",
    "2. [Objective](#objective)\n",
    "3. [Problem Analysis](#problem-analysis)\n",
    "4. [Exploratory Data Analysis (EDA)](#exploratory-data-analysis-eda)\n",
    "    - [About the Data and Initial Data Cleaning](#about-the-data-and-initial-data-cleaning)\n",
    "    - [Data Distribution Analysis](#data-distribution-analysis)\n",
    "    - [Correlations Analysis](#correlations-analysis)\n",
    "    - [Missing Values Analysis](#missing-values-analysis)\n",
    "    - [Outlier Analysis](#outlier-analysis)\n",
    "    - [Final Data Cleaning](#final-data-cleaning)\n",
    "5. [Model Training and Evaluation](#model-training-and-evaluation)\n",
    "    - [Clustering Models](#clustering-models-eg-k-means-dbscan-hierarchical-clustering)\n",
    "6. [Results and Discussion](#results-and-discussion)\n",
    "7. [References](#references)\n",
    "\n",
    "\n",
    "\n",
    "[Link to the CICIDS2017 Dataset on Kaggle](https://www.kaggle.com/datasets/sweety18/cicids2017-full-dataset)\n",
    "\n",
    "\n",
    "\n"
   ]
  },
  {
   "cell_type": "code",
   "execution_count": null,
   "metadata": {},
   "outputs": [],
   "source": []
  },
  {
   "cell_type": "markdown",
   "metadata": {},
   "source": [
    "## References\n",
    "Canadian Institute for Cybersecurity (CIC). (2017). CICIDS 2017 dataset. Retrieved from [https://www.unb.ca/cic/datasets/ids-2017.html](https://www.unb.ca/cic/datasets/ids-2017.html)\n",
    "\n",
    "Kaggle. (2023). CICIDS2017 full dataset. Retrieved May 27, 2024, from [https://www.kaggle.com/datasets/sweety18/cicids2017-full-dataset](https://www.kaggle.com/datasets/sweety18/cicids2017-full-dataset)\n",
    "\n",
    "----------------------------------------------------------------------------------------------------------------------------\n",
    "\n",
    "© Karan D 2024"
   ]
  }
 ],
 "metadata": {
  "language_info": {
   "name": "python"
  },
  "orig_nbformat": 4
 },
 "nbformat": 4,
 "nbformat_minor": 2
}
